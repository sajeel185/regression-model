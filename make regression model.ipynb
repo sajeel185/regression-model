{
 "cells": [
  {
   "cell_type": "code",
   "execution_count": 52,
   "metadata": {},
   "outputs": [],
   "source": [
    "import math\n",
    "import warnings\n",
    "\n",
    "from IPython.display import display\n",
    "from matplotlib import pyplot as plt\n",
    "import numpy as np\n",
    "import pandas as pd\n",
    "import seaborn as sns\n",
    "from sklearn import linear_model\n",
    "import statsmodels.formula.api as smf\n",
    "import re"
   ]
  },
  {
   "cell_type": "code",
   "execution_count": 53,
   "metadata": {
    "scrolled": true
   },
   "outputs": [],
   "source": [
    "df = pd.read_csv('new york crime.csv')\n",
    "df = df.drop_duplicates()\n",
    "df = df.fillna(0)\n",
    "\n",
    "#print(df.head())\n",
    "#print(df.shape)"
   ]
  },
  {
   "cell_type": "code",
   "execution_count": 54,
   "metadata": {},
   "outputs": [],
   "source": [
    "df['Population'] = df['Population'].str.replace(',','')\n",
    "pop_numeric = pd.to_numeric(df['Population'])\n",
    "df['PopSquared'] = pop_numeric ** 2\n",
    "\n",
    "#print(df['PopSquared'])\n"
   ]
  },
  {
   "cell_type": "code",
   "execution_count": 55,
   "metadata": {},
   "outputs": [
    {
     "name": "stdout",
     "output_type": "stream",
     "text": [
      "                       City Population Violent\\ncrime  \\\n",
      "0             Adams Village       1861              0   \n",
      "1  Addison Town and Village       2577              3   \n",
      "2             Akron Village       2846              3   \n",
      "3                    Albany      97956            791   \n",
      "4            Albion Village       6388             23   \n",
      "\n",
      "   Murder and\\nnonnegligent\\nmanslaughter  Rape\\n(revised\\ndefinition)1  \\\n",
      "0                                       0                           0.0   \n",
      "1                                       0                           0.0   \n",
      "2                                       0                           0.0   \n",
      "3                                       8                           0.0   \n",
      "4                                       0                           0.0   \n",
      "\n",
      "  Rape\\n(legacy\\ndefinition)2 Robbery Aggravated\\nassault Property\\ncrime  \\\n",
      "0                           0       0                   0              12   \n",
      "1                           0       0                   3              24   \n",
      "2                           0       0                   3              16   \n",
      "3                          30     227                 526           4,090   \n",
      "4                           3       4                  16             223   \n",
      "\n",
      "  Burglary Larceny-\\ntheft Motor\\nvehicle\\ntheft  Arson3  PopSquared  \\\n",
      "0        2              10                     0     0.0     3463321   \n",
      "1        3              20                     1     0.0     6640929   \n",
      "2        1              15                     0     0.0     8099716   \n",
      "3      705            3243                   142     0.0  9595377936   \n",
      "4       53             165                     5     0.0    40806544   \n",
      "\n",
      "   IndicateMurder  IndicateRobbery  IndicateLarceny  IndicateBurglary  \\\n",
      "0               0                0                1                 1   \n",
      "1               0                0                1                 1   \n",
      "2               0                0                1                 1   \n",
      "3               1                1                1                 1   \n",
      "4               0                1                1                 1   \n",
      "\n",
      "   IndicateGTA  IndicateArson  \n",
      "0            0              0  \n",
      "1            1              0  \n",
      "2            0              0  \n",
      "3            1              0  \n",
      "4            1              0  \n"
     ]
    }
   ],
   "source": [
    "df['IndicateMurder'] = np.where(df['Murder and\\nnonnegligent\\nmanslaughter'] > 0, 1, 0)\n",
    "r_numeric = pd.to_numeric(df['Robbery'], errors='coerce').fillna(0)\n",
    "df['IndicateRobbery'] = np.where(r_numeric > 0, 1, 0)\n",
    "\n",
    "df['Larceny-\\ntheft'] = df['Larceny-\\ntheft'].str.replace(',','')\n",
    "larceny_numeric = pd.to_numeric(df['Larceny-\\ntheft'])\n",
    "df['IndicateLarceny'] = np.where(larceny_numeric > 0, 1, 0)\n",
    "\n",
    "df['Burglary'] = df['Burglary'].str.replace(',','')\n",
    "burglary_numeric = pd.to_numeric(df['Burglary'])\n",
    "df['IndicateBurglary'] = np.where(burglary_numeric > 0, 1, 0)\n",
    "\n",
    "df['Motor\\nvehicle\\ntheft'] = df['Motor\\nvehicle\\ntheft'].str.replace(',','')\n",
    "gta_numeric = pd.to_numeric(df['Motor\\nvehicle\\ntheft'])\n",
    "df['IndicateGTA'] = np.where(gta_numeric > 0, 1, 0)\n",
    "\n",
    "df['IndicateArson'] = df['Arson3'].astype(int)\n",
    "\n",
    "\n",
    "print(df.head())"
   ]
  },
  {
   "cell_type": "code",
   "execution_count": 56,
   "metadata": {},
   "outputs": [
    {
     "name": "stdout",
     "output_type": "stream",
     "text": [
      "\n",
      "Coefficients: \n",
      " [[ 2.00847061e-09  1.24282542e+02 -3.41207585e+01  3.25502909e+02\n",
      "   7.90704269e+01]]\n",
      "\n",
      "Intercept: \n",
      " [-17.61544106]\n",
      "\n",
      "R-squared:\n",
      "0.989412065019866\n"
     ]
    }
   ],
   "source": [
    "df['Property\\ncrime'] = df['Property\\ncrime'].str.replace(',','')\n",
    "pd.to_numeric(df['Property\\ncrime'])\n",
    "\n",
    "# Instantiate and fit our model.\n",
    "regr = linear_model.LinearRegression()\n",
    "Y = df['Property\\ncrime'].values.reshape(-1, 1)\n",
    "X = df[['PopSquared', 'IndicateBurglary', 'IndicateLarceny', 'IndicateGTA', 'IndicateArson']]\n",
    "\n",
    "regr.fit(X, Y)\n",
    "\n",
    "# Inspect the results.\n",
    "print('\\nCoefficients: \\n', regr.coef_)\n",
    "print('\\nIntercept: \\n', regr.intercept_)\n",
    "print('\\nR-squared:')\n",
    "print(regr.score(X, Y))"
   ]
  }
 ],
 "metadata": {
  "kernelspec": {
   "display_name": "Python 3",
   "language": "python",
   "name": "python3"
  },
  "language_info": {
   "codemirror_mode": {
    "name": "ipython",
    "version": 3
   },
   "file_extension": ".py",
   "mimetype": "text/x-python",
   "name": "python",
   "nbconvert_exporter": "python",
   "pygments_lexer": "ipython3",
   "version": "3.7.0"
  }
 },
 "nbformat": 4,
 "nbformat_minor": 2
}
